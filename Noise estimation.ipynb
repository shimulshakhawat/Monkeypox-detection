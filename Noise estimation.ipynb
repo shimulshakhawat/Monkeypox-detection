{
 "cells": [
  {
   "cell_type": "code",
   "execution_count": null,
   "id": "61d0261e",
   "metadata": {},
   "outputs": [],
   "source": [
    "import numpy as np\n",
    "import cv2\n",
    "from skimage.util import random_noise\n",
    "import matplotlib.pyplot as plt\n",
    "\n",
    "def compute_noise_index(image):\n",
    "    \"\"\"\n",
    "    Computes a noise index for an image based on the minimum absolute difference \n",
    "    from each pixel to its 3x3 neighbors.\n",
    "    \"\"\"\n",
    "    gray = cv2.cvtColor(image, cv2.COLOR_RGB2GRAY).astype(np.float32)\n",
    "    h, w = gray.shape\n",
    "    dmin_vals = []\n",
    "\n",
    "    for i in range(1, h - 1):\n",
    "        for j in range(1, w - 1):\n",
    "            patch = gray[i-1:i+2, j-1:j+2].flatten()\n",
    "            center_pixel = gray[i, j]\n",
    "            neighbors = np.delete(patch, 4)  # remove center pixel\n",
    "            diffs = np.abs(neighbors - center_pixel)\n",
    "            dmin = np.min(diffs)\n",
    "            dmin_vals.append(dmin)\n",
    "\n",
    "    noise_index = np.mean(np.square(dmin_vals))\n",
    "\n",
    "    # Normalize to a scale of 1 to 10\n",
    "    noise_score = np.clip((noise_index / 50) * 10, 1, 10)\n",
    "    return noise_score\n",
    "\n",
    "# Load image and resize\n",
    "original_img = cv2.imread(\"MP_4_noise_estimate.png\")\n",
    "original_img = cv2.cvtColor(original_img, cv2.COLOR_BGR2RGB)\n",
    "original_img = cv2.resize(original_img, (224, 224))\n",
    "\n",
    "# Add Gaussian noise\n",
    "noisy_img = random_noise(original_img, mode='gaussian', var=0.01)\n",
    "noisy_img = (255 * noisy_img).astype(np.uint8)\n",
    "\n",
    "# Calculate noise scores\n",
    "original_score = compute_noise_index(original_img)\n",
    "noisy_score = compute_noise_index(noisy_img)\n",
    "\n",
    "# Display\n",
    "fig, axs = plt.subplots(1, 2, figsize=(10, 5))\n",
    "axs[0].imshow(original_img)\n",
    "axs[0].set_title(f\"Original Image\\nNoise Score: {original_score:.2f}\")\n",
    "axs[0].axis('off')\n",
    "\n",
    "axs[1].imshow(noisy_img)\n",
    "axs[1].set_title(f\"Noisy Image\\nNoise Score: {noisy_score:.2f}\")\n",
    "axs[1].axis('off')\n",
    "\n",
    "plt.tight_layout()\n",
    "plt.show()\n"
   ]
  },
  {
   "cell_type": "code",
   "execution_count": null,
   "id": "994bd014",
   "metadata": {},
   "outputs": [],
   "source": []
  },
  {
   "cell_type": "code",
   "execution_count": null,
   "id": "097ec95a",
   "metadata": {},
   "outputs": [],
   "source": []
  }
 ],
 "metadata": {
  "kernelspec": {
   "display_name": "Python 3",
   "language": "python",
   "name": "python3"
  },
  "language_info": {
   "codemirror_mode": {
    "name": "ipython",
    "version": 3
   },
   "file_extension": ".py",
   "mimetype": "text/x-python",
   "name": "python",
   "nbconvert_exporter": "python",
   "pygments_lexer": "ipython3",
   "version": "3.8.8"
  }
 },
 "nbformat": 4,
 "nbformat_minor": 5
}
